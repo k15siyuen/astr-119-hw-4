{
 "cells": [
  {
   "cell_type": "code",
   "execution_count": 10,
   "metadata": {},
   "outputs": [],
   "source": [
    "%matplotlib inline\n",
    "import numpy as np\n",
    "import matplotlib.pyplot as plt"
   ]
  },
  {
   "cell_type": "code",
   "execution_count": 11,
   "metadata": {},
   "outputs": [],
   "source": [
    "def func(x):\n",
    "    return (np.exp(-2*x))*(np.cos(10*x))"
   ]
  },
  {
   "cell_type": "code",
   "execution_count": 12,
   "metadata": {},
   "outputs": [],
   "source": [
    "def func_integral(x):\n",
    "    return ((np.exp(-2*x))*5*(np.sin(10*x))-(np.cos(10*x)))/52."
   ]
  },
  {
   "cell_type": "code",
   "execution_count": 13,
   "metadata": {},
   "outputs": [],
   "source": [
    "def trapezoid_core(f,x,h):\n",
    "    return 0.5*h*(f(x+h)) + f(x)"
   ]
  },
  {
   "cell_type": "code",
   "execution_count": 14,
   "metadata": {},
   "outputs": [],
   "source": [
    "def trapezoid_method(f,a,b,N):\n",
    "    #f == function to integrate\n",
    "    #a == lower limit of integration\n",
    "    #b == upper limit of integration\n",
    "    #N == number of function evaluations to use\n",
    "    #note the number of chunks will be N-1\n",
    "    #so if N is odd, we don't need to adjust\n",
    "    #the last segment\n",
    "    \n",
    "    #define x values to perform Simpson's rule\n",
    "    x = np.linspace(a,b,N)\n",
    "    h = x[1]-x[0]\n",
    "    \n",
    "    #define the value of the integral\n",
    "    Fint = 0.0\n",
    "    \n",
    "    #perform the integral using the trapezoid method\n",
    "    for i in range(0,len(x)-1,1):\n",
    "        #print (i,i+1,x[i],x[i]+h,x[-2],x[-1])\n",
    "        \n",
    "    #return the answer\n",
    "        return Fint"
   ]
  },
  {
   "cell_type": "code",
   "execution_count": 15,
   "metadata": {},
   "outputs": [],
   "source": [
    "def simpson_core(f,x,h):\n",
    "    return h*(f(x) + 4*f(x+h) + f(x+2*h))/3."
   ]
  },
  {
   "cell_type": "code",
   "execution_count": 16,
   "metadata": {},
   "outputs": [],
   "source": [
    "def simpsons_method(f,a,b,N):\n",
    "    #f == function to integrate\n",
    "    #a == lower limit of integration\n",
    "    #b == upper limit of integration\n",
    "    #N == number of function evaluations to use\n",
    "    #note the number of chunks will be N-1\n",
    "    #so if N is odd, we don't need to adjust\n",
    "    #the last segment\n",
    "    \n",
    "    #define x values to perform Simpson's rule\n",
    "    x = np.linspace(a,b,N)\n",
    "    h = x[1]-x[0]\n",
    "    \n",
    "    #define the value of the integral\n",
    "    Fint = 0.0\n",
    "    \n",
    "    #if N is odd or even, we have different\n",
    "    #number of chunks to add\n",
    "    if((N%2)==0):\n",
    "        lim = 3\n",
    "    else:\n",
    "        lim = 2\n",
    "        \n",
    "    #perform the integral using Simpson's method\n",
    "    for i in range(0,len(x)-2,2):\n",
    "        Fint += simpson_core(f,x[i],h)\n",
    "        print(i,i+1,x[i],x[i]+h,x[-2],x[-1])\n",
    "        \n",
    "    #apply Simpson's rule over the last interval\n",
    "    #if N is even\n",
    "    if((N%2)==0):\n",
    "        Fint += simpson_core(f,x[-2],0.5*h)\n",
    "        \n",
    "    return Fint"
   ]
  },
  {
   "cell_type": "code",
   "execution_count": 17,
   "metadata": {},
   "outputs": [],
   "source": [
    "def romberg_core(f,a,b,I,i):\n",
    "    \n",
    "    #we need the difference b-a\n",
    "    h = b-a\n",
    "    \n",
    "    #and the increment between new func evals\n",
    "    dh = h/2.**(i)\n",
    "    \n",
    "    #we need the cofactor\n",
    "    K = h/2.**(i+1)\n",
    "    \n",
    "    #and hte function evaluations\n",
    "    M = 0.0\n",
    "    for j in range(2**i):\n",
    "        M += f(a + 0.5*dh + j*dh)\n",
    "        \n",
    "    #return the answer\n",
    "    return K*M"
   ]
  },
  {
   "cell_type": "code",
   "execution_count": 18,
   "metadata": {},
   "outputs": [],
   "source": [
    "def romberg_integration(f,a,b,tol):\n",
    "    \n",
    "    #define an iteration variable\n",
    "    i = 0\n",
    "    \n",
    "    #define the maximum number of iterations\n",
    "    imax = 1000\n",
    "    \n",
    "    #define an error estimate, set to a large value\n",
    "    delta = 100.0*np.fabs(tol)\n",
    "    \n",
    "    #set an array of integral answers\n",
    "    I = np.zeros(imax,dtype=float)\n",
    "    \n",
    "    #get the zeroth Romberg iteration\n",
    "    I[0] = 0.5*(b-a) * (f(a) + f(b))\n",
    "    \n",
    "    #iterate by 1\n",
    "    i += 1\n",
    "    \n",
    "    while(delta>tol):\n",
    "        \n",
    "        #find this Romberg iteration\n",
    "        I[i] = 0.5*I[i-1] + romberg_core(f,a,b,I,i)\n",
    "        \n",
    "        #compute the new fractional error estimate\n",
    "        delta = np.fabs((I[i]-I[i-1])/I[i])\n",
    "        \n",
    "        print(i,I[i],I[i-1],delta)\n",
    "        \n",
    "        if(delta>tol):\n",
    "            \n",
    "            #iterate\n",
    "            i += 1\n",
    "            \n",
    "            #if we've reached the maximum number of iterations\n",
    "            if(i>imax):\n",
    "                print(\"Max iterations reached.\")\n",
    "                raise StopIteration('Stopping iterations after ',i)\n",
    "                \n",
    "    #return the answer\n",
    "    return I[i]"
   ]
  },
  {
   "cell_type": "code",
   "execution_count": 19,
   "metadata": {},
   "outputs": [
    {
     "name": "stdout",
     "output_type": "stream",
     "text": [
      "0.028287409104459704\n",
      "Trapezoid\n",
      "0.0\n",
      "Simpson's Method\n",
      "0 1 0.0 0.1111111111111111 0.8888888888888888 1.0\n",
      "2 3 0.2222222222222222 0.3333333333333333 0.8888888888888888 1.0\n",
      "4 5 0.4444444444444444 0.5555555555555556 0.8888888888888888 1.0\n",
      "6 7 0.6666666666666666 0.7777777777777777 0.8888888888888888 1.0\n",
      "0.013670507431562885\n",
      "Romberg\n",
      "1 0.11946766131901145 0.4432220084783303 2.70997476291769\n",
      "2 0.060811946494693916 0.11946766131901145 0.9645426302780075\n",
      "3 0.03649466375563152 0.060811946494693916 0.6663243399607971\n",
      "4 0.02516694989944875 0.03649466375563152 0.4501027697611815\n",
      "5 0.019690357518066744 0.02516694989944875 0.2781357512862322\n",
      "6 0.016997673593145187 0.019690357518066744 0.15841485072448158\n",
      "7 0.01566266057717022 0.016997673593145187 0.08523539212238773\n",
      "8 0.014997981690630852 0.01566266057717022 0.04431788891665263\n",
      "9 0.014666348864544716 0.014997981690630852 0.022611819011604438\n",
      "10 0.014500709087790522 0.014666348864544716 0.01142287427127696\n",
      "11 0.014417933357360262 0.014500709087790522 0.005741164727190489\n",
      "12 0.014376556531561564 0.014417933357360262 0.0028780762422393118\n",
      "13 0.014355870878511954 0.014376556531561564 0.0014409194137133758\n",
      "14 0.014345528741949078 0.014355870878511954 0.0007209310126459954\n",
      "15 0.014340357846158152 0.014345528741949078 0.00036058345589413867\n",
      "16 0.014337772441385462 0.014340357846158152 0.00018032123073928662\n",
      "17 0.014336479749779715 0.014337772441385462 9.016799300166088e-05\n",
      "18 0.014335833406671748 0.014336479749779715 4.508584116683188e-05\n",
      "19 0.014335510235792517 0.014335833406671748 2.2543381708452184e-05\n",
      "20 0.01433534865051926 0.014335510235792517 1.1271806301784464e-05\n",
      "21 0.014335267857928918 0.01433534865051926 5.63593168558439e-06\n",
      "22 0.014335227461638966 0.014335267857928918 2.8179734196827587e-06\n",
      "23 0.014335207263496661 0.014335227461638966 1.408988508729909e-06\n",
      "24 0.014335197164426737 0.014335207263496661 7.044946650012679e-07\n",
      "0.014335197164426737 -0.4932304647806471 1e-06\n"
     ]
    }
   ],
   "source": [
    "Answer = func_integral(1)-func_integral(0)\n",
    "print(Answer)\n",
    "print(\"Trapezoid\")\n",
    "print(trapezoid_method(func,0,1,10))\n",
    "print(\"Simpson's Method\")\n",
    "print(simpsons_method(func,0,1,10))\n",
    "print(\"Romberg\")\n",
    "tolerance = 1.0e-6\n",
    "RI = romberg_integration(func,0,1,tolerance)\n",
    "print(RI, (RI-Answer)/Answer, tolerance)"
   ]
  },
  {
   "cell_type": "markdown",
   "metadata": {},
   "source": [
    "It takes Romberg integration 23 iterations to reach the specified accuracy."
   ]
  },
  {
   "cell_type": "markdown",
   "metadata": {},
   "source": [
    "It takes the trapezoid method 1 interval to reach the specified accuracy."
   ]
  },
  {
   "cell_type": "markdown",
   "metadata": {},
   "source": [
    "It takes Simpson's method 4 intervals to reach the specified accuracy."
   ]
  },
  {
   "cell_type": "code",
   "execution_count": null,
   "metadata": {},
   "outputs": [],
   "source": []
  }
 ],
 "metadata": {
  "kernelspec": {
   "display_name": "Python 3",
   "language": "python",
   "name": "python3"
  },
  "language_info": {
   "codemirror_mode": {
    "name": "ipython",
    "version": 3
   },
   "file_extension": ".py",
   "mimetype": "text/x-python",
   "name": "python",
   "nbconvert_exporter": "python",
   "pygments_lexer": "ipython3",
   "version": "3.6.5"
  }
 },
 "nbformat": 4,
 "nbformat_minor": 2
}
